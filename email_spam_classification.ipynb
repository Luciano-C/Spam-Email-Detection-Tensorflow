{
 "cells": [
  {
   "cell_type": "code",
   "execution_count": 1,
   "id": "3efa0e4a-c744-419c-9eea-e392398170f8",
   "metadata": {},
   "outputs": [],
   "source": [
    "import pandas as pd\n",
    "import numpy as np\n",
    "import tensorflow as tf\n",
    "import matplotlib.pyplot as plt\n",
    "from sklearn.metrics import classification_report, confusion_matrix, accuracy_score, f1_score, precision_score, recall_score\n",
    "import seaborn as sns"
   ]
  },
  {
   "cell_type": "code",
   "execution_count": 2,
   "id": "ff39707a-b0ff-4135-86be-6571a619eb5c",
   "metadata": {},
   "outputs": [],
   "source": [
    "tf.random.set_seed(42)"
   ]
  },
  {
   "cell_type": "markdown",
   "id": "116776b8-4fb1-4975-b15d-1bf19ccfa018",
   "metadata": {},
   "source": [
    "## Exploring the dataset"
   ]
  },
  {
   "cell_type": "code",
   "execution_count": 3,
   "id": "6af62746-b334-4243-93cd-04f50b4fccb7",
   "metadata": {},
   "outputs": [
    {
     "data": {
      "text/html": [
       "<div>\n",
       "<style scoped>\n",
       "    .dataframe tbody tr th:only-of-type {\n",
       "        vertical-align: middle;\n",
       "    }\n",
       "\n",
       "    .dataframe tbody tr th {\n",
       "        vertical-align: top;\n",
       "    }\n",
       "\n",
       "    .dataframe thead th {\n",
       "        text-align: right;\n",
       "    }\n",
       "</style>\n",
       "<table border=\"1\" class=\"dataframe\">\n",
       "  <thead>\n",
       "    <tr style=\"text-align: right;\">\n",
       "      <th></th>\n",
       "      <th>v1</th>\n",
       "      <th>v2</th>\n",
       "      <th>Unnamed: 2</th>\n",
       "      <th>Unnamed: 3</th>\n",
       "      <th>Unnamed: 4</th>\n",
       "    </tr>\n",
       "  </thead>\n",
       "  <tbody>\n",
       "    <tr>\n",
       "      <th>0</th>\n",
       "      <td>ham</td>\n",
       "      <td>Go until jurong point, crazy.. Available only ...</td>\n",
       "      <td>NaN</td>\n",
       "      <td>NaN</td>\n",
       "      <td>NaN</td>\n",
       "    </tr>\n",
       "    <tr>\n",
       "      <th>1</th>\n",
       "      <td>ham</td>\n",
       "      <td>Ok lar... Joking wif u oni...</td>\n",
       "      <td>NaN</td>\n",
       "      <td>NaN</td>\n",
       "      <td>NaN</td>\n",
       "    </tr>\n",
       "    <tr>\n",
       "      <th>2</th>\n",
       "      <td>spam</td>\n",
       "      <td>Free entry in 2 a wkly comp to win FA Cup fina...</td>\n",
       "      <td>NaN</td>\n",
       "      <td>NaN</td>\n",
       "      <td>NaN</td>\n",
       "    </tr>\n",
       "    <tr>\n",
       "      <th>3</th>\n",
       "      <td>ham</td>\n",
       "      <td>U dun say so early hor... U c already then say...</td>\n",
       "      <td>NaN</td>\n",
       "      <td>NaN</td>\n",
       "      <td>NaN</td>\n",
       "    </tr>\n",
       "    <tr>\n",
       "      <th>4</th>\n",
       "      <td>ham</td>\n",
       "      <td>Nah I don't think he goes to usf, he lives aro...</td>\n",
       "      <td>NaN</td>\n",
       "      <td>NaN</td>\n",
       "      <td>NaN</td>\n",
       "    </tr>\n",
       "  </tbody>\n",
       "</table>\n",
       "</div>"
      ],
      "text/plain": [
       "     v1                                                 v2 Unnamed: 2  \\\n",
       "0   ham  Go until jurong point, crazy.. Available only ...        NaN   \n",
       "1   ham                      Ok lar... Joking wif u oni...        NaN   \n",
       "2  spam  Free entry in 2 a wkly comp to win FA Cup fina...        NaN   \n",
       "3   ham  U dun say so early hor... U c already then say...        NaN   \n",
       "4   ham  Nah I don't think he goes to usf, he lives aro...        NaN   \n",
       "\n",
       "  Unnamed: 3 Unnamed: 4  \n",
       "0        NaN        NaN  \n",
       "1        NaN        NaN  \n",
       "2        NaN        NaN  \n",
       "3        NaN        NaN  \n",
       "4        NaN        NaN  "
      ]
     },
     "execution_count": 3,
     "metadata": {},
     "output_type": "execute_result"
    }
   ],
   "source": [
    "df = pd.read_csv('data/spam.csv', encoding='latin1')\n",
    "df.head()"
   ]
  },
  {
   "cell_type": "markdown",
   "id": "62c2e5ba-2122-4a98-a8b5-64e7cc402cfe",
   "metadata": {},
   "source": [
    "The column v1 has the labels (spam and ham) the v2 the texts and the rest of them appear to not have any data."
   ]
  },
  {
   "cell_type": "code",
   "execution_count": 4,
   "id": "be060ee3-63fc-47b1-ab88-1673d98f1371",
   "metadata": {},
   "outputs": [
    {
     "name": "stdout",
     "output_type": "stream",
     "text": [
      "<class 'pandas.core.frame.DataFrame'>\n",
      "RangeIndex: 5572 entries, 0 to 5571\n",
      "Data columns (total 5 columns):\n",
      " #   Column      Non-Null Count  Dtype \n",
      "---  ------      --------------  ----- \n",
      " 0   v1          5572 non-null   object\n",
      " 1   v2          5572 non-null   object\n",
      " 2   Unnamed: 2  50 non-null     object\n",
      " 3   Unnamed: 3  12 non-null     object\n",
      " 4   Unnamed: 4  6 non-null      object\n",
      "dtypes: object(5)\n",
      "memory usage: 217.8+ KB\n"
     ]
    }
   ],
   "source": [
    "df.info()"
   ]
  },
  {
   "cell_type": "markdown",
   "id": "2baae496-2846-40bf-aa2e-8d3fc8b3a86c",
   "metadata": {},
   "source": [
    "Given that less than 1% of the Unnamed columns have values, they will be deleted."
   ]
  },
  {
   "cell_type": "code",
   "execution_count": 5,
   "id": "5ce789c2-2c3e-43fa-8ff8-1ddd37065dd2",
   "metadata": {},
   "outputs": [],
   "source": [
    "df.drop(columns=[\"Unnamed: 2\", \"Unnamed: 3\", \"Unnamed: 4\"], inplace=True) "
   ]
  },
  {
   "cell_type": "code",
   "execution_count": 6,
   "id": "ec0d61bc-d234-44dc-8236-942934ac429b",
   "metadata": {},
   "outputs": [
    {
     "data": {
      "text/html": [
       "<div>\n",
       "<style scoped>\n",
       "    .dataframe tbody tr th:only-of-type {\n",
       "        vertical-align: middle;\n",
       "    }\n",
       "\n",
       "    .dataframe tbody tr th {\n",
       "        vertical-align: top;\n",
       "    }\n",
       "\n",
       "    .dataframe thead th {\n",
       "        text-align: right;\n",
       "    }\n",
       "</style>\n",
       "<table border=\"1\" class=\"dataframe\">\n",
       "  <thead>\n",
       "    <tr style=\"text-align: right;\">\n",
       "      <th></th>\n",
       "      <th>v1</th>\n",
       "      <th>v2</th>\n",
       "    </tr>\n",
       "  </thead>\n",
       "  <tbody>\n",
       "    <tr>\n",
       "      <th>0</th>\n",
       "      <td>ham</td>\n",
       "      <td>Go until jurong point, crazy.. Available only ...</td>\n",
       "    </tr>\n",
       "    <tr>\n",
       "      <th>1</th>\n",
       "      <td>ham</td>\n",
       "      <td>Ok lar... Joking wif u oni...</td>\n",
       "    </tr>\n",
       "    <tr>\n",
       "      <th>2</th>\n",
       "      <td>spam</td>\n",
       "      <td>Free entry in 2 a wkly comp to win FA Cup fina...</td>\n",
       "    </tr>\n",
       "    <tr>\n",
       "      <th>3</th>\n",
       "      <td>ham</td>\n",
       "      <td>U dun say so early hor... U c already then say...</td>\n",
       "    </tr>\n",
       "    <tr>\n",
       "      <th>4</th>\n",
       "      <td>ham</td>\n",
       "      <td>Nah I don't think he goes to usf, he lives aro...</td>\n",
       "    </tr>\n",
       "  </tbody>\n",
       "</table>\n",
       "</div>"
      ],
      "text/plain": [
       "     v1                                                 v2\n",
       "0   ham  Go until jurong point, crazy.. Available only ...\n",
       "1   ham                      Ok lar... Joking wif u oni...\n",
       "2  spam  Free entry in 2 a wkly comp to win FA Cup fina...\n",
       "3   ham  U dun say so early hor... U c already then say...\n",
       "4   ham  Nah I don't think he goes to usf, he lives aro..."
      ]
     },
     "execution_count": 6,
     "metadata": {},
     "output_type": "execute_result"
    }
   ],
   "source": [
    "df.head()"
   ]
  },
  {
   "cell_type": "code",
   "execution_count": 7,
   "id": "550b6e31-6a98-41cb-a9c2-571a2cf1313f",
   "metadata": {},
   "outputs": [
    {
     "data": {
      "text/plain": [
       "v1\n",
       "ham     4825\n",
       "spam     747\n",
       "Name: count, dtype: int64"
      ]
     },
     "execution_count": 7,
     "metadata": {},
     "output_type": "execute_result"
    }
   ],
   "source": [
    "df[\"v1\"].value_counts()"
   ]
  },
  {
   "cell_type": "markdown",
   "id": "588ccb60-d373-456a-a99f-826e51a02da8",
   "metadata": {},
   "source": [
    "The classes are pretty unbalanced. Class weights will be used later on to address this issue."
   ]
  },
  {
   "cell_type": "markdown",
   "id": "e2872490-efe2-4c78-8e17-97f75505d69e",
   "metadata": {},
   "source": [
    "## Preparing the dataset"
   ]
  },
  {
   "cell_type": "code",
   "execution_count": 8,
   "id": "d7099861-18db-4db2-bcfe-846adc2bd66b",
   "metadata": {},
   "outputs": [],
   "source": [
    "# Standardize labels so they have 0 for ham and 1 for spam\n",
    "labels = df[\"v1\"].apply(lambda x: 0 if x == \"ham\" else 1).to_numpy()\n",
    "\n",
    "# Get the sentences\n",
    "sentences = df[\"v2\"].to_numpy()\n",
    "\n",
    "# Create the dataset\n",
    "dataset = tf.data.Dataset.from_tensor_slices((sentences, labels))"
   ]
  },
  {
   "cell_type": "code",
   "execution_count": 9,
   "id": "30853c3d-cc2a-488d-8a3e-28dde0430a96",
   "metadata": {},
   "outputs": [
    {
     "name": "stdout",
     "output_type": "stream",
     "text": [
      "dataset contains 5572 examples\n",
      "\n",
      "Text of second example look like this: Ok lar... Joking wif u oni...\n",
      "\n",
      "Labels of first 5 examples look like this: [0, 0, 1, 0, 0]\n"
     ]
    }
   ],
   "source": [
    "# Get the first 5 elements of the dataset\n",
    "examples = list(dataset.take(5))\n",
    "\n",
    "print(f\"dataset contains {len(dataset)} examples\\n\")\n",
    "\n",
    "print(f\"Text of second example look like this: {examples[1][0].numpy().decode('latin1')}\\n\")\n",
    "print(f\"Labels of first 5 examples look like this: {[x[1].numpy() for x in examples]}\")"
   ]
  },
  {
   "cell_type": "markdown",
   "id": "787599f2-eb2d-4bf9-848a-c56569d8574d",
   "metadata": {},
   "source": [
    "## Global Variables"
   ]
  },
  {
   "cell_type": "code",
   "execution_count": 10,
   "id": "aa8fed57-9b7d-4349-849e-c1fae1ee5fb7",
   "metadata": {},
   "outputs": [],
   "source": [
    "EMBEDDING_DIM = 100\n",
    "MAX_LENGTH = 32\n",
    "TRAINING_SPLIT = 0.9\n",
    "NUM_BATCHES = 128"
   ]
  },
  {
   "cell_type": "markdown",
   "id": "3343cb17-f2ed-4e99-8517-8c1b3353c4b8",
   "metadata": {},
   "source": [
    "## Train and Validation Datasets"
   ]
  },
  {
   "cell_type": "code",
   "execution_count": 11,
   "id": "f55a2121-0b26-4588-abdf-1c805cf2338d",
   "metadata": {},
   "outputs": [],
   "source": [
    "def train_val_datasets(dataset):\n",
    "    \"\"\"\n",
    "    Splits the dataset into training and validation sets, after shuffling it.\n",
    "    \"\"\"\n",
    "    # Shuffle the dataset\n",
    "    dataset = dataset.shuffle(buffer_size=dataset.cardinality().numpy(), reshuffle_each_iteration=False)\n",
    "    \n",
    "    # Compute the number of sentences that will be used for training\n",
    "    train_size = int(TRAINING_SPLIT * dataset.cardinality().numpy())\n",
    "\n",
    "    # Split the dataset\n",
    "    train_dataset = dataset.take(train_size)\n",
    "    validation_dataset = dataset.skip(train_size)\n",
    "\n",
    "    # Batch the datasets\n",
    "    train_dataset = train_dataset.batch(NUM_BATCHES)\n",
    "    validation_dataset = validation_dataset.batch(NUM_BATCHES)\n",
    "    \n",
    "    return train_dataset, validation_dataset"
   ]
  },
  {
   "cell_type": "code",
   "execution_count": 12,
   "id": "b97c8529-67c3-40e1-bcf8-b22343c9a41e",
   "metadata": {},
   "outputs": [
    {
     "name": "stdout",
     "output_type": "stream",
     "text": [
      "There are 40 batches for a total of 5120 elements for training.\n",
      "\n",
      "There are 5 batches for a total of 640 elements for validation.\n",
      "\n"
     ]
    }
   ],
   "source": [
    "# Create the train and validation datasets\n",
    "train_dataset, validation_dataset = train_val_datasets(dataset)\n",
    "\n",
    "print(f\"There are {len(train_dataset)} batches for a total of {NUM_BATCHES*len(train_dataset)} elements for training.\\n\")\n",
    "print(f\"There are {len(validation_dataset)} batches for a total of {NUM_BATCHES*len(validation_dataset)} elements for validation.\\n\")"
   ]
  },
  {
   "cell_type": "markdown",
   "id": "721bee1c-4e50-4941-899a-2c7c6a4ce492",
   "metadata": {},
   "source": [
    "## Calculating class weights"
   ]
  },
  {
   "cell_type": "code",
   "execution_count": 13,
   "id": "c13be41e-b6bd-4802-883c-17b01768950d",
   "metadata": {},
   "outputs": [],
   "source": [
    "# Initialize an empty list to collect labels\n",
    "train_labels = []\n",
    "\n",
    "# Iterate over the batches in the training dataset\n",
    "for _, label_batch in train_dataset:\n",
    "    # Convert the labels to NumPy arrays and add them to the list\n",
    "    train_labels.extend(label_batch.numpy())\n",
    "\n",
    "# Convert the list of labels to a NumPy array\n",
    "train_labels = np.array(train_labels)"
   ]
  },
  {
   "cell_type": "code",
   "execution_count": 14,
   "id": "e0d97d4a-d9e4-4a91-a48f-051eafd88f91",
   "metadata": {},
   "outputs": [
    {
     "name": "stdout",
     "output_type": "stream",
     "text": [
      "Class Weights: {0: 0.5775167012209168, 1: 3.725111441307578}\n"
     ]
    }
   ],
   "source": [
    "# Get unique classes and their counts in the training data\n",
    "classes, class_counts = np.unique(train_labels, return_counts=True)\n",
    "\n",
    "# Total number of samples in the training data\n",
    "total_samples = len(train_labels)\n",
    "\n",
    "# Number of classes (should be 2 for 'ham' and 'spam')\n",
    "num_classes = len(classes)\n",
    "\n",
    "# Calculate class weights\n",
    "class_weights = {}\n",
    "\n",
    "for i in range(num_classes):\n",
    "    class_weight = total_samples / (num_classes * class_counts[i])\n",
    "    class_weights[classes[i]] = class_weight\n",
    "\n",
    "print(\"Class Weights:\", class_weights)"
   ]
  },
  {
   "cell_type": "markdown",
   "id": "c30a459e-1ae2-4661-98ef-00af82ba40ae",
   "metadata": {},
   "source": [
    "## Vectorizer"
   ]
  },
  {
   "cell_type": "code",
   "execution_count": 15,
   "id": "3861fe7a-735e-435d-9776-4a85265f9cb1",
   "metadata": {},
   "outputs": [],
   "source": [
    "def fit_vectorizer(dataset):\n",
    "    \"\"\"\n",
    "    Adapts the TextVectorization layer on the training sentences\n",
    "    \n",
    "    Args:\n",
    "        dataset (tf.data.Dataset): Tensorflow dataset with training sentences.\n",
    "    \n",
    "    Returns:\n",
    "        tf.keras.layers.TextVectorization: an instance of the TextVectorization class adapted to the training sentences.\n",
    "    \"\"\"    \n",
    "\n",
    "    \n",
    "    # Instantiate the TextVectorization class, defining the necessary arguments alongside their corresponding values\n",
    "    vectorizer = tf.keras.layers.TextVectorization( \n",
    "        standardize=\"lower_and_strip_punctuation\",\n",
    "        output_sequence_length=MAX_LENGTH\n",
    "    ) \n",
    "    \n",
    "    # Fit the tokenizer to the training sentences\n",
    "    vectorizer.adapt(dataset)\n",
    "       \n",
    "    return vectorizer"
   ]
  },
  {
   "cell_type": "code",
   "execution_count": 16,
   "id": "cbbf63a3-a15c-4d4e-9517-fb6f97a74754",
   "metadata": {},
   "outputs": [
    {
     "name": "stdout",
     "output_type": "stream",
     "text": [
      "Vocabulary contains 8986 words\n",
      "\n"
     ]
    }
   ],
   "source": [
    "# Get only the texts out of the dataset\n",
    "text_only_dataset = train_dataset.map(lambda text, label: text)\n",
    "\n",
    "# Adapt the vectorizer to the training sentences\n",
    "vectorizer = fit_vectorizer(text_only_dataset)\n",
    "\n",
    "# Check size of vocabulary\n",
    "vocab_size = vectorizer.vocabulary_size()\n",
    "\n",
    "print(f\"Vocabulary contains {vocab_size} words\\n\")"
   ]
  },
  {
   "cell_type": "code",
   "execution_count": 17,
   "id": "d003cacb-5679-42ff-90df-8785499eafc9",
   "metadata": {},
   "outputs": [],
   "source": [
    "# Apply vectorization to train and val datasets\n",
    "train_dataset_vectorized = train_dataset.map(lambda x,y: (vectorizer(x), y))\n",
    "validation_dataset_vectorized = validation_dataset.map(lambda x,y: (vectorizer(x), y))"
   ]
  },
  {
   "cell_type": "markdown",
   "id": "115eaa11-bddb-47fc-9fd2-99408303b089",
   "metadata": {},
   "source": [
    "## Pre-defined Embeddings"
   ]
  },
  {
   "cell_type": "code",
   "execution_count": 18,
   "id": "20611ac4-c9f4-41f5-8558-c8b9922b1d54",
   "metadata": {},
   "outputs": [],
   "source": [
    "# Define path to file containing the embeddings\n",
    "glove_file = 'data/glove.6B.100d.txt'\n",
    "\n",
    "# Initialize an empty embeddings index dictionary\n",
    "glove_embeddings = {}\n",
    "\n",
    "# Read file and fill glove_embeddings with its contents\n",
    "with open(glove_file, 'r', encoding='utf-8') as f:\n",
    "    for line in f:\n",
    "        values = line.split()\n",
    "        word = values[0]\n",
    "        coefs = np.asarray(values[1:], dtype='float32')\n",
    "        glove_embeddings[word] = coefs"
   ]
  },
  {
   "cell_type": "code",
   "execution_count": 19,
   "id": "718dfca5-fbb2-4254-a6a5-33f9e4cd9222",
   "metadata": {},
   "outputs": [],
   "source": [
    "# Create a word index dictionary\n",
    "word_index = {x:i for i,x in enumerate(vectorizer.get_vocabulary())}"
   ]
  },
  {
   "cell_type": "code",
   "execution_count": 20,
   "id": "e969226c-ed71-4464-817f-5a901a83cf56",
   "metadata": {},
   "outputs": [],
   "source": [
    "# Initialize an empty numpy array with the appropriate size\n",
    "embeddings_matrix = np.zeros((vocab_size, EMBEDDING_DIM))\n",
    "\n",
    "# Iterate all of the words in the vocabulary and if the vector representation for \n",
    "# each word exists within GloVe's representations, save it in the embeddings_matrix array\n",
    "for word, i in word_index.items():\n",
    "    embedding_vector = glove_embeddings.get(word)\n",
    "    if embedding_vector is not None:\n",
    "        embeddings_matrix[i] = embedding_vector"
   ]
  },
  {
   "cell_type": "markdown",
   "id": "38385ee5-31d1-45a8-bc5a-d6270b8588bb",
   "metadata": {},
   "source": [
    "## Model"
   ]
  },
  {
   "cell_type": "code",
   "execution_count": 21,
   "id": "bd3b3682-e7eb-4cb0-8ce8-e5dfb4fb3f2b",
   "metadata": {},
   "outputs": [],
   "source": [
    "def create_model(vocab_size, pretrained_embeddings):\n",
    "    \"\"\"\n",
    "    Creates a binary sentiment classifier model\n",
    "    \n",
    "    Args:\n",
    "        vocab_size (int): Number of words in the vocabulary.\n",
    "        pretrained_embeddings (np.ndarray): Array containing pre-trained embeddings.\n",
    "\n",
    "    Returns:\n",
    "        (tf.keras Model): the sentiment classifier model\n",
    "    \"\"\"\n",
    "  \n",
    "    model = tf.keras.Sequential([ \n",
    "        tf.keras.Input(shape=(MAX_LENGTH,)),\n",
    "        tf.keras.layers.Embedding(input_dim=vocab_size, output_dim=EMBEDDING_DIM, weights=[pretrained_embeddings], trainable=False),\n",
    "        tf.keras.layers.Conv1D(filters=64, kernel_size=5, activation='relu'),\n",
    "        tf.keras.layers.MaxPooling1D(),\n",
    "        tf.keras.layers.Bidirectional(tf.keras.layers.LSTM(25)),\n",
    "        tf.keras.layers.Dropout(0.5),\n",
    "        tf.keras.layers.Dense(16, activation=\"relu\", kernel_regularizer=tf.keras.regularizers.l2()),\n",
    "        tf.keras.layers.Dense(1, activation=\"sigmoid\")\n",
    "    ])\n",
    "    \n",
    "    model.compile( \n",
    "        loss=\"binary_crossentropy\",\n",
    "        optimizer=tf.keras.optimizers.Adam(),\n",
    "        metrics=[\"accuracy\"] \n",
    "    ) \n",
    "\n",
    "    return model"
   ]
  },
  {
   "cell_type": "code",
   "execution_count": 22,
   "id": "e90d3c68-04a8-49ef-9715-3e76cf0163be",
   "metadata": {},
   "outputs": [],
   "source": [
    "# Create your untrained model\n",
    "model = create_model(vocab_size, embeddings_matrix)"
   ]
  },
  {
   "cell_type": "code",
   "execution_count": 23,
   "id": "0adf5a52-aaaa-44ef-ab27-b184c4416eaf",
   "metadata": {},
   "outputs": [
    {
     "name": "stdout",
     "output_type": "stream",
     "text": [
      "Epoch 1/30\n",
      "\u001b[1m40/40\u001b[0m \u001b[32m━━━━━━━━━━━━━━━━━━━━\u001b[0m\u001b[37m\u001b[0m \u001b[1m5s\u001b[0m 22ms/step - accuracy: 0.6012 - loss: 0.8239 - val_accuracy: 0.9588 - val_loss: 0.4062\n",
      "Epoch 2/30\n",
      "\u001b[1m40/40\u001b[0m \u001b[32m━━━━━━━━━━━━━━━━━━━━\u001b[0m\u001b[37m\u001b[0m \u001b[1m0s\u001b[0m 11ms/step - accuracy: 0.9278 - loss: 0.4324 - val_accuracy: 0.9659 - val_loss: 0.2868\n",
      "Epoch 3/30\n",
      "\u001b[1m40/40\u001b[0m \u001b[32m━━━━━━━━━━━━━━━━━━━━\u001b[0m\u001b[37m\u001b[0m \u001b[1m0s\u001b[0m 11ms/step - accuracy: 0.9521 - loss: 0.3391 - val_accuracy: 0.9695 - val_loss: 0.2461\n",
      "Epoch 4/30\n",
      "\u001b[1m40/40\u001b[0m \u001b[32m━━━━━━━━━━━━━━━━━━━━\u001b[0m\u001b[37m\u001b[0m \u001b[1m0s\u001b[0m 10ms/step - accuracy: 0.9559 - loss: 0.2749 - val_accuracy: 0.9409 - val_loss: 0.2960\n",
      "Epoch 5/30\n",
      "\u001b[1m40/40\u001b[0m \u001b[32m━━━━━━━━━━━━━━━━━━━━\u001b[0m\u001b[37m\u001b[0m \u001b[1m0s\u001b[0m 11ms/step - accuracy: 0.9607 - loss: 0.2499 - val_accuracy: 0.9534 - val_loss: 0.2579\n",
      "Epoch 6/30\n",
      "\u001b[1m40/40\u001b[0m \u001b[32m━━━━━━━━━━━━━━━━━━━━\u001b[0m\u001b[37m\u001b[0m \u001b[1m0s\u001b[0m 11ms/step - accuracy: 0.9586 - loss: 0.2093 - val_accuracy: 0.9498 - val_loss: 0.2375\n",
      "Epoch 7/30\n",
      "\u001b[1m40/40\u001b[0m \u001b[32m━━━━━━━━━━━━━━━━━━━━\u001b[0m\u001b[37m\u001b[0m \u001b[1m0s\u001b[0m 10ms/step - accuracy: 0.9643 - loss: 0.1747 - val_accuracy: 0.9624 - val_loss: 0.1753\n",
      "Epoch 8/30\n",
      "\u001b[1m40/40\u001b[0m \u001b[32m━━━━━━━━━━━━━━━━━━━━\u001b[0m\u001b[37m\u001b[0m \u001b[1m0s\u001b[0m 10ms/step - accuracy: 0.9760 - loss: 0.1360 - val_accuracy: 0.9749 - val_loss: 0.1326\n",
      "Epoch 9/30\n",
      "\u001b[1m40/40\u001b[0m \u001b[32m━━━━━━━━━━━━━━━━━━━━\u001b[0m\u001b[37m\u001b[0m \u001b[1m0s\u001b[0m 10ms/step - accuracy: 0.9794 - loss: 0.1224 - val_accuracy: 0.9785 - val_loss: 0.1164\n",
      "Epoch 10/30\n",
      "\u001b[1m40/40\u001b[0m \u001b[32m━━━━━━━━━━━━━━━━━━━━\u001b[0m\u001b[37m\u001b[0m \u001b[1m0s\u001b[0m 11ms/step - accuracy: 0.9859 - loss: 0.1075 - val_accuracy: 0.9749 - val_loss: 0.1326\n",
      "Epoch 11/30\n",
      "\u001b[1m40/40\u001b[0m \u001b[32m━━━━━━━━━━━━━━━━━━━━\u001b[0m\u001b[37m\u001b[0m \u001b[1m0s\u001b[0m 10ms/step - accuracy: 0.9822 - loss: 0.0989 - val_accuracy: 0.9014 - val_loss: 0.3214\n",
      "Epoch 12/30\n",
      "\u001b[1m40/40\u001b[0m \u001b[32m━━━━━━━━━━━━━━━━━━━━\u001b[0m\u001b[37m\u001b[0m \u001b[1m0s\u001b[0m 10ms/step - accuracy: 0.9735 - loss: 0.1145 - val_accuracy: 0.9821 - val_loss: 0.0971\n",
      "Epoch 13/30\n",
      "\u001b[1m40/40\u001b[0m \u001b[32m━━━━━━━━━━━━━━━━━━━━\u001b[0m\u001b[37m\u001b[0m \u001b[1m0s\u001b[0m 11ms/step - accuracy: 0.9844 - loss: 0.0850 - val_accuracy: 0.9659 - val_loss: 0.1435\n",
      "Epoch 14/30\n",
      "\u001b[1m40/40\u001b[0m \u001b[32m━━━━━━━━━━━━━━━━━━━━\u001b[0m\u001b[37m\u001b[0m \u001b[1m0s\u001b[0m 10ms/step - accuracy: 0.9755 - loss: 0.0922 - val_accuracy: 0.9892 - val_loss: 0.0809\n",
      "Epoch 15/30\n",
      "\u001b[1m40/40\u001b[0m \u001b[32m━━━━━━━━━━━━━━━━━━━━\u001b[0m\u001b[37m\u001b[0m \u001b[1m0s\u001b[0m 11ms/step - accuracy: 0.9877 - loss: 0.0657 - val_accuracy: 0.9892 - val_loss: 0.0786\n",
      "Epoch 16/30\n",
      "\u001b[1m40/40\u001b[0m \u001b[32m━━━━━━━━━━━━━━━━━━━━\u001b[0m\u001b[37m\u001b[0m \u001b[1m0s\u001b[0m 11ms/step - accuracy: 0.9939 - loss: 0.0474 - val_accuracy: 0.9892 - val_loss: 0.0775\n",
      "Epoch 17/30\n",
      "\u001b[1m40/40\u001b[0m \u001b[32m━━━━━━━━━━━━━━━━━━━━\u001b[0m\u001b[37m\u001b[0m \u001b[1m0s\u001b[0m 10ms/step - accuracy: 0.9960 - loss: 0.0403 - val_accuracy: 0.9910 - val_loss: 0.0703\n",
      "Epoch 18/30\n",
      "\u001b[1m40/40\u001b[0m \u001b[32m━━━━━━━━━━━━━━━━━━━━\u001b[0m\u001b[37m\u001b[0m \u001b[1m0s\u001b[0m 10ms/step - accuracy: 0.9978 - loss: 0.0337 - val_accuracy: 0.9875 - val_loss: 0.0762\n",
      "Epoch 19/30\n",
      "\u001b[1m40/40\u001b[0m \u001b[32m━━━━━━━━━━━━━━━━━━━━\u001b[0m\u001b[37m\u001b[0m \u001b[1m0s\u001b[0m 10ms/step - accuracy: 0.9984 - loss: 0.0298 - val_accuracy: 0.9910 - val_loss: 0.0698\n",
      "Epoch 20/30\n",
      "\u001b[1m40/40\u001b[0m \u001b[32m━━━━━━━━━━━━━━━━━━━━\u001b[0m\u001b[37m\u001b[0m \u001b[1m0s\u001b[0m 10ms/step - accuracy: 0.9984 - loss: 0.0265 - val_accuracy: 0.9857 - val_loss: 0.0800\n",
      "Epoch 21/30\n",
      "\u001b[1m40/40\u001b[0m \u001b[32m━━━━━━━━━━━━━━━━━━━━\u001b[0m\u001b[37m\u001b[0m \u001b[1m0s\u001b[0m 10ms/step - accuracy: 0.9994 - loss: 0.0234 - val_accuracy: 0.9857 - val_loss: 0.0784\n",
      "Epoch 22/30\n",
      "\u001b[1m40/40\u001b[0m \u001b[32m━━━━━━━━━━━━━━━━━━━━\u001b[0m\u001b[37m\u001b[0m \u001b[1m0s\u001b[0m 11ms/step - accuracy: 0.9987 - loss: 0.0225 - val_accuracy: 0.9857 - val_loss: 0.0827\n",
      "Epoch 23/30\n",
      "\u001b[1m40/40\u001b[0m \u001b[32m━━━━━━━━━━━━━━━━━━━━\u001b[0m\u001b[37m\u001b[0m \u001b[1m0s\u001b[0m 10ms/step - accuracy: 0.9993 - loss: 0.0200 - val_accuracy: 0.9857 - val_loss: 0.0833\n",
      "Epoch 24/30\n",
      "\u001b[1m40/40\u001b[0m \u001b[32m━━━━━━━━━━━━━━━━━━━━\u001b[0m\u001b[37m\u001b[0m \u001b[1m0s\u001b[0m 10ms/step - accuracy: 0.9994 - loss: 0.0191 - val_accuracy: 0.9857 - val_loss: 0.0770\n",
      "Epoch 25/30\n",
      "\u001b[1m40/40\u001b[0m \u001b[32m━━━━━━━━━━━━━━━━━━━━\u001b[0m\u001b[37m\u001b[0m \u001b[1m0s\u001b[0m 11ms/step - accuracy: 0.9994 - loss: 0.0185 - val_accuracy: 0.9785 - val_loss: 0.0951\n",
      "Epoch 26/30\n",
      "\u001b[1m40/40\u001b[0m \u001b[32m━━━━━━━━━━━━━━━━━━━━\u001b[0m\u001b[37m\u001b[0m \u001b[1m0s\u001b[0m 10ms/step - accuracy: 0.9987 - loss: 0.0185 - val_accuracy: 0.9875 - val_loss: 0.0767\n",
      "Epoch 27/30\n",
      "\u001b[1m40/40\u001b[0m \u001b[32m━━━━━━━━━━━━━━━━━━━━\u001b[0m\u001b[37m\u001b[0m \u001b[1m0s\u001b[0m 10ms/step - accuracy: 0.9994 - loss: 0.0164 - val_accuracy: 0.9875 - val_loss: 0.0777\n",
      "Epoch 28/30\n",
      "\u001b[1m40/40\u001b[0m \u001b[32m━━━━━━━━━━━━━━━━━━━━\u001b[0m\u001b[37m\u001b[0m \u001b[1m0s\u001b[0m 10ms/step - accuracy: 0.9994 - loss: 0.0162 - val_accuracy: 0.9803 - val_loss: 0.0946\n",
      "Epoch 29/30\n",
      "\u001b[1m40/40\u001b[0m \u001b[32m━━━━━━━━━━━━━━━━━━━━\u001b[0m\u001b[37m\u001b[0m \u001b[1m0s\u001b[0m 10ms/step - accuracy: 0.9994 - loss: 0.0159 - val_accuracy: 0.9839 - val_loss: 0.0785\n",
      "Epoch 30/30\n",
      "\u001b[1m40/40\u001b[0m \u001b[32m━━━━━━━━━━━━━━━━━━━━\u001b[0m\u001b[37m\u001b[0m \u001b[1m0s\u001b[0m 10ms/step - accuracy: 0.9993 - loss: 0.0145 - val_accuracy: 0.9892 - val_loss: 0.0645\n"
     ]
    }
   ],
   "source": [
    "# Train the model and save the training history\n",
    "history = model.fit(\n",
    "\ttrain_dataset_vectorized, \n",
    "\tepochs=30, \n",
    "\tvalidation_data=validation_dataset_vectorized,\n",
    "    class_weight=class_weights\n",
    ")"
   ]
  },
  {
   "cell_type": "code",
   "execution_count": 24,
   "id": "7438286c-dc99-4ed2-8604-6be66999f1f1",
   "metadata": {},
   "outputs": [
    {
     "data": {
      "image/png": "[encoded data removed]",
      "text/plain": [
       "<Figure size 1000x500 with 2 Axes>"
      ]
     },
     "metadata": {},
     "output_type": "display_data"
    }
   ],
   "source": [
    "# Get training and validation accuracies\n",
    "acc = history.history['accuracy']\n",
    "val_acc = history.history['val_accuracy']\n",
    "loss = history.history['loss']\n",
    "val_loss = history.history['val_loss']\n",
    "\n",
    "# Get number of epochs\n",
    "epochs = range(len(acc))\n",
    "\n",
    "fig, ax = plt.subplots(1, 2, figsize=(10, 5))\n",
    "fig.suptitle('Training and validation performance')\n",
    "\n",
    "for i, (data, label) in enumerate(zip([(acc, val_acc), (loss, val_loss)], [\"Accuracy\", \"Loss\"])):\n",
    "    ax[i].plot(epochs, data[0], 'r', label=\"Training \" + label)\n",
    "    ax[i].plot(epochs, data[1], 'b', label=\"Validation \" + label)\n",
    "    ax[i].legend()\n",
    "    ax[i].set_xlabel('epochs')"
   ]
  },
  {
   "cell_type": "markdown",
   "id": "a5213cd9-777f-4b24-aeb2-ae7091d350bb",
   "metadata": {},
   "source": [
    "## Making predictions"
   ]
  },
  {
   "cell_type": "code",
   "execution_count": 25,
   "id": "2fd92f40-6f27-43c7-90ab-a5486569d99d",
   "metadata": {},
   "outputs": [],
   "source": [
    "def predict_email_content(model, vectorizer, email_content):\n",
    "    \"\"\"\n",
    "    Predicts whether the given email content is 'spam' or 'ham' and displays the confidence.\n",
    "\n",
    "    Args:\n",
    "        model (tf.keras.Model): The trained spam classifier model.\n",
    "        vectorizer (tf.keras.layers.TextVectorization): The fitted TextVectorization layer.\n",
    "        email_content (str): The content of the email to classify.\n",
    "\n",
    "    Returns:\n",
    "        tuple: A tuple containing the label ('spam' or 'ham') and the confidence score.\n",
    "    \"\"\"\n",
    "    # Preprocess the email content using the vectorizer\n",
    "    email_vector = vectorizer(tf.constant([email_content]))\n",
    "    \n",
    "    # Use the model to make a prediction\n",
    "    prediction = model.predict(email_vector)\n",
    "    \n",
    "    # Extract the probability of being 'spam'\n",
    "    probability_spam = prediction[0][0]\n",
    "    \n",
    "    # Determine the label and adjust the probability accordingly\n",
    "    if probability_spam >= 0.5:\n",
    "        label = 'spam'\n",
    "        confidence = probability_spam  # Confidence in 'spam'\n",
    "    else:\n",
    "        label = 'ham'\n",
    "        confidence = 1 - probability_spam  # Confidence in 'ham'\n",
    "    \n",
    "    # Convert confidence to percentage\n",
    "    confidence_percent = confidence * 100\n",
    "    \n",
    "    # Print the result\n",
    "    print(f\"The email is classified as **{label.upper()}** with a confidence of {confidence_percent:.2f}%\")\n",
    "    \n",
    "    return label, confidence"
   ]
  },
  {
   "cell_type": "code",
   "execution_count": 26,
   "id": "6ec93d85-51a5-4d43-83de-46ccc065eb3b",
   "metadata": {},
   "outputs": [
    {
     "name": "stdout",
     "output_type": "stream",
     "text": [
      "\u001b[1m1/1\u001b[0m \u001b[32m━━━━━━━━━━━━━━━━━━━━\u001b[0m\u001b[37m\u001b[0m \u001b[1m0s\u001b[0m 352ms/step\n",
      "The email is classified as **SPAM** with a confidence of 99.63%\n",
      "\u001b[1m1/1\u001b[0m \u001b[32m━━━━━━━━━━━━━━━━━━━━\u001b[0m\u001b[37m\u001b[0m \u001b[1m0s\u001b[0m 24ms/step\n",
      "The email is classified as **HAM** with a confidence of 99.80%\n"
     ]
    }
   ],
   "source": [
    "# Example of a spam email\n",
    "spam_email = \"Congratulations! You've won a free ticket to the Bahamas. Call now to claim your prize.\"\n",
    "\n",
    "# Predict using the function\n",
    "label, probability = predict_email_content(model, vectorizer, spam_email)\n",
    "\n",
    "# Example of a ham email\n",
    "ham_email = \"Hi John, how are you doing?\"\n",
    "\n",
    "# Predict using the function\n",
    "label, probability = predict_email_content(model, vectorizer, ham_email)"
   ]
  },
  {
   "cell_type": "code",
   "execution_count": 27,
   "id": "a58f76be-7db1-45cb-9f00-29685f686502",
   "metadata": {},
   "outputs": [
    {
     "name": "stdout",
     "output_type": "stream",
     "text": [
      "\u001b[1m1/1\u001b[0m \u001b[32m━━━━━━━━━━━━━━━━━━━━\u001b[0m\u001b[37m\u001b[0m \u001b[1m0s\u001b[0m 24ms/step\n",
      "The email is classified as **SPAM** with a confidence of 98.94%\n"
     ]
    }
   ],
   "source": [
    "email_1 = \"Dear Valued Customer, Congratulations! You have been selected to receive a special reward worth $1,000. To claim your prize, please click on the link below and complete the short survey. [Claim Your Reward Now](http://example.com/reward) Don't miss this limited-time offer! Best regards, The Rewards Team\"\n",
    "# Predict using the function\n",
    "label, probability = predict_email_content(model, vectorizer, email_1)"
   ]
  },
  {
   "cell_type": "code",
   "execution_count": 28,
   "id": "0e3b4d2a-b47c-4a82-ae5b-830f66a38255",
   "metadata": {},
   "outputs": [
    {
     "name": "stdout",
     "output_type": "stream",
     "text": [
      "\u001b[1m1/1\u001b[0m \u001b[32m━━━━━━━━━━━━━━━━━━━━\u001b[0m\u001b[37m\u001b[0m \u001b[1m0s\u001b[0m 25ms/step\n",
      "The email is classified as **HAM** with a confidence of 99.71%\n"
     ]
    }
   ],
   "source": [
    "email_2 = \"\"\"Subject: Meeting Agenda for Tomorrow\n",
    "\n",
    "Hi Team,\n",
    "\n",
    "Please find attached the agenda for our meeting scheduled tomorrow at 10:00 AM. Make sure to review the documents beforehand so we can have a productive discussion.\n",
    "\n",
    "Looking forward to your valuable inputs.\n",
    "\n",
    "Best,\n",
    "Jessica\n",
    "Project Manager\n",
    "\"\"\"\n",
    "\n",
    "label, probability = predict_email_content(model, vectorizer, email_2)"
   ]
  },
  {
   "cell_type": "code",
   "execution_count": 29,
   "id": "c0f8a609-9843-4e34-bdaf-3a95b9ae30cd",
   "metadata": {},
   "outputs": [
    {
     "name": "stdout",
     "output_type": "stream",
     "text": [
      "\u001b[1m1/1\u001b[0m \u001b[32m━━━━━━━━━━━━━━━━━━━━\u001b[0m\u001b[37m\u001b[0m \u001b[1m0s\u001b[0m 24ms/step\n",
      "The email is classified as **SPAM** with a confidence of 99.83%\n"
     ]
    }
   ],
   "source": [
    "email_3 = \"\"\"Subject: Urgent: Update Your Payment Information\n",
    "\n",
    "Dear User,\n",
    "\n",
    "We noticed an issue with your billing information. To avoid any interruption in your service, please update your payment details immediately.\n",
    "\n",
    "[Secure Update Link](http://secure-update.example.com)\n",
    "\n",
    "Thank you for your prompt attention to this matter.\n",
    "\n",
    "Sincerely,\n",
    "Billing Department\n",
    "\"\"\"\n",
    "\n",
    "label, probability = predict_email_content(model, vectorizer, email_3)"
   ]
  },
  {
   "cell_type": "code",
   "execution_count": 30,
   "id": "18f8044e-303b-4837-8cb3-bff4eca74360",
   "metadata": {},
   "outputs": [
    {
     "name": "stdout",
     "output_type": "stream",
     "text": [
      "\u001b[1m1/1\u001b[0m \u001b[32m━━━━━━━━━━━━━━━━━━━━\u001b[0m\u001b[37m\u001b[0m \u001b[1m0s\u001b[0m 20ms/step\n",
      "The email is classified as **HAM** with a confidence of 98.32%\n"
     ]
    }
   ],
   "source": [
    "email_4 = \"\"\"Subject: Exclusive Investment Opportunity Just for You\n",
    "\n",
    "Dear Investor,\n",
    "\n",
    "Are you looking for a way to double your money in just a few months? We have an exclusive investment opportunity that is guaranteed to yield high returns with minimal risk.\n",
    "\n",
    "Don't let this chance slip away. Contact us now to learn more.\n",
    "\n",
    "Best regards,\n",
    "Global Investments Inc.\n",
    "\"\"\"\n",
    "\n",
    "label, probability = predict_email_content(model, vectorizer, email_4)\n",
    "# This one was meant to be spam"
   ]
  },
  {
   "cell_type": "markdown",
   "id": "cef59f95-c8de-45d2-8040-18e7653b3c91",
   "metadata": {},
   "source": [
    "## Confusion Matrix"
   ]
  },
  {
   "cell_type": "code",
   "execution_count": 31,
   "id": "784d0634-59b0-483c-b058-fad9d15087d8",
   "metadata": {},
   "outputs": [
    {
     "name": "stdout",
     "output_type": "stream",
     "text": [
      "\u001b[1m4/4\u001b[0m \u001b[32m━━━━━━━━━━━━━━━━━━━━\u001b[0m\u001b[37m\u001b[0m \u001b[1m0s\u001b[0m 4ms/step  \n",
      "\u001b[1m4/4\u001b[0m \u001b[32m━━━━━━━━━━━━━━━━━━━━\u001b[0m\u001b[37m\u001b[0m \u001b[1m0s\u001b[0m 3ms/step \n",
      "\u001b[1m4/4\u001b[0m \u001b[32m━━━━━━━━━━━━━━━━━━━━\u001b[0m\u001b[37m\u001b[0m \u001b[1m0s\u001b[0m 3ms/step \n",
      "\u001b[1m4/4\u001b[0m \u001b[32m━━━━━━━━━━━━━━━━━━━━\u001b[0m\u001b[37m\u001b[0m \u001b[1m0s\u001b[0m 3ms/step \n",
      "\u001b[1m2/2\u001b[0m \u001b[32m━━━━━━━━━━━━━━━━━━━━\u001b[0m\u001b[37m\u001b[0m \u001b[1m0s\u001b[0m 4ms/step \n"
     ]
    }
   ],
   "source": [
    "# Initialize lists to store true labels and predictions\n",
    "y_true = []\n",
    "y_pred = []\n",
    "\n",
    "# Iterate over the validation dataset\n",
    "for x_batch, y_batch in validation_dataset_vectorized:\n",
    "    # Get model predictions\n",
    "    preds = model.predict(x_batch)\n",
    "    # Convert probabilities to binary class labels\n",
    "    preds_class = (preds >= 0.5).astype(int).flatten()\n",
    "    # Extend the lists\n",
    "    y_pred.extend(preds_class)\n",
    "    y_true.extend(y_batch.numpy().flatten())"
   ]
  },
  {
   "cell_type": "code",
   "execution_count": 32,
   "id": "b2ac9c77-d685-4378-a43b-c3d151fa1a13",
   "metadata": {},
   "outputs": [
    {
     "name": "stdout",
     "output_type": "stream",
     "text": [
      "Accuracy: 0.9892\n",
      "Precision: 0.9722\n",
      "Recall: 0.9459\n",
      "F1 Score: 0.9589\n"
     ]
    }
   ],
   "source": [
    "# Calculate accuracy\n",
    "accuracy = accuracy_score(y_true, y_pred)\n",
    "print(f\"Accuracy: {accuracy:.4f}\")\n",
    "\n",
    "# Calculate precision\n",
    "precision = precision_score(y_true, y_pred)\n",
    "print(f\"Precision: {precision:.4f}\")\n",
    "\n",
    "# Calculate recall\n",
    "recall = recall_score(y_true, y_pred)\n",
    "print(f\"Recall: {recall:.4f}\")\n",
    "\n",
    "# Calculate F1 score\n",
    "f1 = f1_score(y_true, y_pred)\n",
    "print(f\"F1 Score: {f1:.4f}\")"
   ]
  },
  {
   "cell_type": "code",
   "execution_count": 33,
   "id": "dd2ffb80-7e18-44f6-af98-0486b07a36f8",
   "metadata": {},
   "outputs": [
    {
     "name": "stdout",
     "output_type": "stream",
     "text": [
      "Classification Report:\n",
      "               precision    recall  f1-score   support\n",
      "\n",
      "         Ham       0.99      1.00      0.99       484\n",
      "        Spam       0.97      0.95      0.96        74\n",
      "\n",
      "    accuracy                           0.99       558\n",
      "   macro avg       0.98      0.97      0.98       558\n",
      "weighted avg       0.99      0.99      0.99       558\n",
      "\n"
     ]
    }
   ],
   "source": [
    "# Generate and print the classification report\n",
    "report = classification_report(y_true, y_pred, target_names=['Ham', 'Spam'])\n",
    "print(\"Classification Report:\\n\", report)"
   ]
  },
  {
   "cell_type": "code",
   "execution_count": 34,
   "id": "d04b29ad-c01d-4d1e-9be3-d3a4668676d8",
   "metadata": {},
   "outputs": [],
   "source": [
    "# Compute and print the confusion matrix\n",
    "cm = confusion_matrix(y_true, y_pred)"
   ]
  },
  {
   "cell_type": "code",
   "execution_count": 35,
   "id": "c871eae9-9d79-4e6e-92a7-5d19e82d51fb",
   "metadata": {},
   "outputs": [
    {
     "data": {
      "image/png": "[encoded data removed]",
      "text/plain": [
       "<Figure size 640x480 with 2 Axes>"
      ]
     },
     "metadata": {},
     "output_type": "display_data"
    }
   ],
   "source": [
    "sns.heatmap(cm, annot=True, fmt=\"g\")\n",
    "plt.xlabel('Predicted value')\n",
    "plt.ylabel('True value')\n",
    "plt.show()"
   ]
  },
  {
   "cell_type": "markdown",
   "id": "1eb05348-9feb-49a9-98d7-449acb8006b2",
   "metadata": {},
   "source": [
    "## Checking Misclassified Emails"
   ]
  },
  {
   "cell_type": "code",
   "execution_count": 36,
   "id": "1c2a5032-5336-44d9-8626-c5327b7e0954",
   "metadata": {},
   "outputs": [
    {
     "name": "stdout",
     "output_type": "stream",
     "text": [
      "\u001b[1m4/4\u001b[0m \u001b[32m━━━━━━━━━━━━━━━━━━━━\u001b[0m\u001b[37m\u001b[0m \u001b[1m0s\u001b[0m 3ms/step \n",
      "\u001b[1m4/4\u001b[0m \u001b[32m━━━━━━━━━━━━━━━━━━━━\u001b[0m\u001b[37m\u001b[0m \u001b[1m0s\u001b[0m 3ms/step \n",
      "\u001b[1m4/4\u001b[0m \u001b[32m━━━━━━━━━━━━━━━━━━━━\u001b[0m\u001b[37m\u001b[0m \u001b[1m0s\u001b[0m 4ms/step \n",
      "\u001b[1m4/4\u001b[0m \u001b[32m━━━━━━━━━━━━━━━━━━━━\u001b[0m\u001b[37m\u001b[0m \u001b[1m0s\u001b[0m 3ms/step \n",
      "\u001b[1m4/4\u001b[0m \u001b[32m━━━━━━━━━━━━━━━━━━━━\u001b[0m\u001b[37m\u001b[0m \u001b[1m0s\u001b[0m 3ms/step \n",
      "\u001b[1m4/4\u001b[0m \u001b[32m━━━━━━━━━━━━━━━━━━━━\u001b[0m\u001b[37m\u001b[0m \u001b[1m0s\u001b[0m 4ms/step \n",
      "\u001b[1m4/4\u001b[0m \u001b[32m━━━━━━━━━━━━━━━━━━━━\u001b[0m\u001b[37m\u001b[0m \u001b[1m0s\u001b[0m 3ms/step \n",
      "\u001b[1m4/4\u001b[0m \u001b[32m━━━━━━━━━━━━━━━━━━━━\u001b[0m\u001b[37m\u001b[0m \u001b[1m0s\u001b[0m 4ms/step \n",
      "\u001b[1m4/4\u001b[0m \u001b[32m━━━━━━━━━━━━━━━━━━━━\u001b[0m\u001b[37m\u001b[0m \u001b[1m0s\u001b[0m 3ms/step \n",
      "\u001b[1m4/4\u001b[0m \u001b[32m━━━━━━━━━━━━━━━━━━━━\u001b[0m\u001b[37m\u001b[0m \u001b[1m0s\u001b[0m 3ms/step \n",
      "\u001b[1m4/4\u001b[0m \u001b[32m━━━━━━━━━━━━━━━━━━━━\u001b[0m\u001b[37m\u001b[0m \u001b[1m0s\u001b[0m 3ms/step \n",
      "\u001b[1m4/4\u001b[0m \u001b[32m━━━━━━━━━━━━━━━━━━━━\u001b[0m\u001b[37m\u001b[0m \u001b[1m0s\u001b[0m 3ms/step \n",
      "\u001b[1m4/4\u001b[0m \u001b[32m━━━━━━━━━━━━━━━━━━━━\u001b[0m\u001b[37m\u001b[0m \u001b[1m0s\u001b[0m 3ms/step \n",
      "\u001b[1m4/4\u001b[0m \u001b[32m━━━━━━━━━━━━━━━━━━━━\u001b[0m\u001b[37m\u001b[0m \u001b[1m0s\u001b[0m 3ms/step \n",
      "\u001b[1m4/4\u001b[0m \u001b[32m━━━━━━━━━━━━━━━━━━━━\u001b[0m\u001b[37m\u001b[0m \u001b[1m0s\u001b[0m 4ms/step \n",
      "\u001b[1m4/4\u001b[0m \u001b[32m━━━━━━━━━━━━━━━━━━━━\u001b[0m\u001b[37m\u001b[0m \u001b[1m0s\u001b[0m 3ms/step \n",
      "\u001b[1m4/4\u001b[0m \u001b[32m━━━━━━━━━━━━━━━━━━━━\u001b[0m\u001b[37m\u001b[0m \u001b[1m0s\u001b[0m 3ms/step \n",
      "\u001b[1m4/4\u001b[0m \u001b[32m━━━━━━━━━━━━━━━━━━━━\u001b[0m\u001b[37m\u001b[0m \u001b[1m0s\u001b[0m 4ms/step \n",
      "\u001b[1m4/4\u001b[0m \u001b[32m━━━━━━━━━━━━━━━━━━━━\u001b[0m\u001b[37m\u001b[0m \u001b[1m0s\u001b[0m 2ms/step \n",
      "\u001b[1m4/4\u001b[0m \u001b[32m━━━━━━━━━━━━━━━━━━━━\u001b[0m\u001b[37m\u001b[0m \u001b[1m0s\u001b[0m 3ms/step \n",
      "\u001b[1m4/4\u001b[0m \u001b[32m━━━━━━━━━━━━━━━━━━━━\u001b[0m\u001b[37m\u001b[0m \u001b[1m0s\u001b[0m 3ms/step \n",
      "\u001b[1m4/4\u001b[0m \u001b[32m━━━━━━━━━━━━━━━━━━━━\u001b[0m\u001b[37m\u001b[0m \u001b[1m0s\u001b[0m 3ms/step \n",
      "\u001b[1m4/4\u001b[0m \u001b[32m━━━━━━━━━━━━━━━━━━━━\u001b[0m\u001b[37m\u001b[0m \u001b[1m0s\u001b[0m 3ms/step \n",
      "\u001b[1m4/4\u001b[0m \u001b[32m━━━━━━━━━━━━━━━━━━━━\u001b[0m\u001b[37m\u001b[0m \u001b[1m0s\u001b[0m 3ms/step \n",
      "\u001b[1m4/4\u001b[0m \u001b[32m━━━━━━━━━━━━━━━━━━━━\u001b[0m\u001b[37m\u001b[0m \u001b[1m0s\u001b[0m 3ms/step \n",
      "\u001b[1m4/4\u001b[0m \u001b[32m━━━━━━━━━━━━━━━━━━━━\u001b[0m\u001b[37m\u001b[0m \u001b[1m0s\u001b[0m 3ms/step \n",
      "\u001b[1m4/4\u001b[0m \u001b[32m━━━━━━━━━━━━━━━━━━━━\u001b[0m\u001b[37m\u001b[0m \u001b[1m0s\u001b[0m 2ms/step \n",
      "\u001b[1m4/4\u001b[0m \u001b[32m━━━━━━━━━━━━━━━━━━━━\u001b[0m\u001b[37m\u001b[0m \u001b[1m0s\u001b[0m 2ms/step \n",
      "\u001b[1m4/4\u001b[0m \u001b[32m━━━━━━━━━━━━━━━━━━━━\u001b[0m\u001b[37m\u001b[0m \u001b[1m0s\u001b[0m 4ms/step \n",
      "\u001b[1m4/4\u001b[0m \u001b[32m━━━━━━━━━━━━━━━━━━━━\u001b[0m\u001b[37m\u001b[0m \u001b[1m0s\u001b[0m 3ms/step \n",
      "\u001b[1m4/4\u001b[0m \u001b[32m━━━━━━━━━━━━━━━━━━━━\u001b[0m\u001b[37m\u001b[0m \u001b[1m0s\u001b[0m 3ms/step \n",
      "\u001b[1m4/4\u001b[0m \u001b[32m━━━━━━━━━━━━━━━━━━━━\u001b[0m\u001b[37m\u001b[0m \u001b[1m0s\u001b[0m 3ms/step \n",
      "\u001b[1m4/4\u001b[0m \u001b[32m━━━━━━━━━━━━━━━━━━━━\u001b[0m\u001b[37m\u001b[0m \u001b[1m0s\u001b[0m 4ms/step \n",
      "\u001b[1m4/4\u001b[0m \u001b[32m━━━━━━━━━━━━━━━━━━━━\u001b[0m\u001b[37m\u001b[0m \u001b[1m0s\u001b[0m 3ms/step \n",
      "\u001b[1m4/4\u001b[0m \u001b[32m━━━━━━━━━━━━━━━━━━━━\u001b[0m\u001b[37m\u001b[0m \u001b[1m0s\u001b[0m 3ms/step \n",
      "\u001b[1m4/4\u001b[0m \u001b[32m━━━━━━━━━━━━━━━━━━━━\u001b[0m\u001b[37m\u001b[0m \u001b[1m0s\u001b[0m 3ms/step \n",
      "\u001b[1m4/4\u001b[0m \u001b[32m━━━━━━━━━━━━━━━━━━━━\u001b[0m\u001b[37m\u001b[0m \u001b[1m0s\u001b[0m 4ms/step \n",
      "\u001b[1m4/4\u001b[0m \u001b[32m━━━━━━━━━━━━━━━━━━━━\u001b[0m\u001b[37m\u001b[0m \u001b[1m0s\u001b[0m 3ms/step \n",
      "\u001b[1m4/4\u001b[0m \u001b[32m━━━━━━━━━━━━━━━━━━━━\u001b[0m\u001b[37m\u001b[0m \u001b[1m0s\u001b[0m 3ms/step \n",
      "\u001b[1m1/1\u001b[0m \u001b[32m━━━━━━━━━━━━━━━━━━━━\u001b[0m\u001b[37m\u001b[0m \u001b[1m0s\u001b[0m 24ms/step\n",
      "Email index 492:\n",
      "Text:\n",
      "HCL chennai requires FRESHERS for voice process.Excellent english needed.Salary upto  &lt;#&gt; .Call Ms.Suman  &lt;#&gt;  for Telephonic interview -via Indyarocks.com\n",
      "True label: Ham\n",
      "Predicted label: Spam\n",
      "--------------------------------------------------\n",
      "Email index 2196:\n",
      "Text:\n",
      "ringtoneking 84484\n",
      "True label: Spam\n",
      "Predicted label: Ham\n",
      "--------------------------------------------------\n"
     ]
    }
   ],
   "source": [
    "# Train emails\n",
    "texts = []\n",
    "labels = []\n",
    "y_pred_classes = []\n",
    "# Iterate over batches in the train dataset\n",
    "\n",
    "for text_batch, label_batch in train_dataset:\n",
    "    # Convert texts to strings\n",
    "    batch_texts = [text.decode('latin1') for text in text_batch.numpy()]\n",
    "    texts.extend(batch_texts)\n",
    "    labels.extend(label_batch.numpy())\n",
    "\n",
    "    # Vectorize texts\n",
    "    inputs = vectorizer(tf.constant(batch_texts))\n",
    "\n",
    "    # Get model predictions\n",
    "    y_pred = model.predict(inputs)\n",
    "    preds_class = (y_pred >= 0.5).astype(int).flatten()\n",
    "    y_pred_classes.extend(preds_class)\n",
    " \n",
    "# Convert lists to NumPy arrays\n",
    "labels = np.array(labels)\n",
    "y_pred_classes = np.array(y_pred_classes)\n",
    "\n",
    "# Identify misclassified emails\n",
    "for i in range(len(texts)):\n",
    "    if y_pred_classes[i] != labels[i]:\n",
    "        print(f\"Email index {i}:\")\n",
    "        print(f\"Text:\\n{texts[i]}\")\n",
    "        print(f\"True label: {'Ham' if labels[i]==0 else 'Spam'}\")\n",
    "        print(f\"Predicted label: {'Ham' if y_pred_classes[i]==0 else 'Spam'}\")\n",
    "        print(\"-\" * 50)"
   ]
  },
  {
   "cell_type": "code",
   "execution_count": 37,
   "id": "c1caa1ff-969e-4df2-b12e-fecfcf7f2ebc",
   "metadata": {},
   "outputs": [
    {
     "name": "stdout",
     "output_type": "stream",
     "text": [
      "\u001b[1m4/4\u001b[0m \u001b[32m━━━━━━━━━━━━━━━━━━━━\u001b[0m\u001b[37m\u001b[0m \u001b[1m0s\u001b[0m 3ms/step \n",
      "\u001b[1m4/4\u001b[0m \u001b[32m━━━━━━━━━━━━━━━━━━━━\u001b[0m\u001b[37m\u001b[0m \u001b[1m0s\u001b[0m 3ms/step \n",
      "\u001b[1m4/4\u001b[0m \u001b[32m━━━━━━━━━━━━━━━━━━━━\u001b[0m\u001b[37m\u001b[0m \u001b[1m0s\u001b[0m 3ms/step \n",
      "\u001b[1m4/4\u001b[0m \u001b[32m━━━━━━━━━━━━━━━━━━━━\u001b[0m\u001b[37m\u001b[0m \u001b[1m0s\u001b[0m 3ms/step \n",
      "\u001b[1m2/2\u001b[0m \u001b[32m━━━━━━━━━━━━━━━━━━━━\u001b[0m\u001b[37m\u001b[0m \u001b[1m0s\u001b[0m 4ms/step \n",
      "Email index 11:\n",
      "Text:\n",
      "Ee msg na poortiyagi odalebeku: Hanumanji 7 name 1-Hanuman 2-Bajarangabali 3-Maruti 4-Pavanaputra 5-Sankatmochan 6-Ramaduth 7-Mahaveer ee 7 name  &lt;#&gt;  janarige ivatte kalisidare next saturday olage ondu good news keluviri...! Maretare inde 1 dodda problum nalli siguviri idu matra  &lt;#&gt; % true.. Don't neglet.\n",
      "True label: Ham\n",
      "Predicted label: Spam\n",
      "--------------------------------------------------\n",
      "Email index 209:\n",
      "Text:\n",
      "Not heard from U4 a while. Call me now am here all night with just my knickers on. Make me beg for it like U did last time 01223585236 XX Luv Nikiyu4.net\n",
      "True label: Spam\n",
      "Predicted label: Ham\n",
      "--------------------------------------------------\n",
      "Email index 212:\n",
      "Text:\n",
      "Hi babe its Chloe, how r u? I was smashed on saturday night, it was great! How was your weekend? U been missing me? SP visionsms.com Text stop to stop 150p/text\n",
      "True label: Spam\n",
      "Predicted label: Ham\n",
      "--------------------------------------------------\n",
      "Email index 392:\n",
      "Text:\n",
      "Hi ya babe x u 4goten bout me?' scammers getting smart..Though this is a regular vodafone no, if you respond you get further prem rate msg/subscription. Other nos used also. Beware!\n",
      "True label: Spam\n",
      "Predicted label: Ham\n",
      "--------------------------------------------------\n",
      "Email index 425:\n",
      "Text:\n",
      "If india win or level series means this is record:)\n",
      "True label: Ham\n",
      "Predicted label: Spam\n",
      "--------------------------------------------------\n",
      "Email index 431:\n",
      "Text:\n",
      "Oh my god! I've found your number again! I'm so glad, text me back xafter this msgs cst std ntwk chg Ã¥Â£1.50\n",
      "True label: Spam\n",
      "Predicted label: Ham\n",
      "--------------------------------------------------\n"
     ]
    }
   ],
   "source": [
    "# Validations emails\n",
    "texts = []\n",
    "labels = []\n",
    "y_pred_classes = []\n",
    "# Iterate over batches in the train dataset\n",
    "\n",
    "for text_batch, label_batch in validation_dataset:\n",
    "    # Convert texts to strings\n",
    "    batch_texts = [text.decode('latin1') for text in text_batch.numpy()]\n",
    "    texts.extend(batch_texts)\n",
    "    labels.extend(label_batch.numpy())\n",
    "\n",
    "    # Vectorize texts\n",
    "    inputs = vectorizer(tf.constant(batch_texts))\n",
    "\n",
    "    # Get model predictions\n",
    "    y_pred = model.predict(inputs)\n",
    "    preds_class = (y_pred >= 0.5).astype(int).flatten()\n",
    "    y_pred_classes.extend(preds_class)\n",
    " \n",
    "# Convert lists to NumPy arrays\n",
    "labels = np.array(labels)\n",
    "y_pred_classes = np.array(y_pred_classes)\n",
    "\n",
    "# Identify misclassified emails\n",
    "for i in range(len(texts)):\n",
    "    if y_pred_classes[i] != labels[i]:\n",
    "        print(f\"Email index {i}:\")\n",
    "        print(f\"Text:\\n{texts[i]}\")\n",
    "        print(f\"True label: {'Ham' if labels[i]==0 else 'Spam'}\")\n",
    "        print(f\"Predicted label: {'Ham' if y_pred_classes[i]==0 else 'Spam'}\")\n",
    "        print(\"-\" * 50)"
   ]
  },
  {
   "cell_type": "markdown",
   "id": "adbaa531-4591-4ed8-a929-9a3385478e73",
   "metadata": {},
   "source": [
    "## Analysis"
   ]
  },
  {
   "cell_type": "markdown",
   "id": "5e495ccb-dba3-4659-8bd9-77866686a8d9",
   "metadata": {},
   "source": [
    "The misclassified emails highlight specific challenges the model faces:\n",
    "\n",
    "- False Positives (Ham misclassified as Spam):  \n",
    "        - Messages with unusual formatting, lists, or certain keywords can be misinterpreted as spam.  \n",
    "        - The model may be overly sensitive to specific words or structures without considering the overall context.\n",
    "\n",
    "- False Negatives (Spam misclassified as Ham):  \n",
    "        - Spam messages that use a personal or conversational tone are harder for the model to detect.  \n",
    "        - Subtle spam indicators, such as mentions of costs or promotional content embedded in friendly language, may not be weighted heavily enough by the model."
   ]
  },
  {
   "cell_type": "markdown",
   "id": "1007480e-991e-445c-8123-b3c4216aa824",
   "metadata": {},
   "source": [
    "## Model Summary"
   ]
  },
  {
   "cell_type": "code",
   "execution_count": 38,
   "id": "9eec6b8f-6393-497e-b49e-cf487de7fa79",
   "metadata": {},
   "outputs": [
    {
     "data": {
      "text/html": [
       "<pre style=\"white-space:pre;overflow-x:auto;line-height:normal;font-family:Menlo,'DejaVu Sans Mono',consolas,'Courier New',monospace\"><span style=\"font-weight: bold\">Model: \"sequential\"</span>\n",
       "</pre>\n"
      ],
      "text/plain": [
       "\u001b[1mModel: \"sequential\"\u001b[0m\n"
      ]
     },
     "metadata": {},
     "output_type": "display_data"
    },
    {
     "data": {
      "text/html": [
       "<pre style=\"white-space:pre;overflow-x:auto;line-height:normal;font-family:Menlo,'DejaVu Sans Mono',consolas,'Courier New',monospace\">┏━━━━━━━━━━━━━━━━━━━━━━━━━━━━━━━━━┳━━━━━━━━━━━━━━━━━━━━━━━━┳━━━━━━━━━━━━━━━┓\n",
       "┃<span style=\"font-weight: bold\"> Layer (type)                    </span>┃<span style=\"font-weight: bold\"> Output Shape           </span>┃<span style=\"font-weight: bold\">       Param # </span>┃\n",
       "┡━━━━━━━━━━━━━━━━━━━━━━━━━━━━━━━━━╇━━━━━━━━━━━━━━━━━━━━━━━━╇━━━━━━━━━━━━━━━┩\n",
       "│ embedding (<span style=\"color: #0087ff; text-decoration-color: #0087ff\">Embedding</span>)           │ (<span style=\"color: #00d7ff; text-decoration-color: #00d7ff\">None</span>, <span style=\"color: #00af00; text-decoration-color: #00af00\">32</span>, <span style=\"color: #00af00; text-decoration-color: #00af00\">100</span>)        │       <span style=\"color: #00af00; text-decoration-color: #00af00\">898,600</span> │\n",
       "├─────────────────────────────────┼────────────────────────┼───────────────┤\n",
       "│ conv1d (<span style=\"color: #0087ff; text-decoration-color: #0087ff\">Conv1D</span>)                 │ (<span style=\"color: #00d7ff; text-decoration-color: #00d7ff\">None</span>, <span style=\"color: #00af00; text-decoration-color: #00af00\">28</span>, <span style=\"color: #00af00; text-decoration-color: #00af00\">64</span>)         │        <span style=\"color: #00af00; text-decoration-color: #00af00\">32,064</span> │\n",
       "├─────────────────────────────────┼────────────────────────┼───────────────┤\n",
       "│ max_pooling1d (<span style=\"color: #0087ff; text-decoration-color: #0087ff\">MaxPooling1D</span>)    │ (<span style=\"color: #00d7ff; text-decoration-color: #00d7ff\">None</span>, <span style=\"color: #00af00; text-decoration-color: #00af00\">14</span>, <span style=\"color: #00af00; text-decoration-color: #00af00\">64</span>)         │             <span style=\"color: #00af00; text-decoration-color: #00af00\">0</span> │\n",
       "├─────────────────────────────────┼────────────────────────┼───────────────┤\n",
       "│ bidirectional (<span style=\"color: #0087ff; text-decoration-color: #0087ff\">Bidirectional</span>)   │ (<span style=\"color: #00d7ff; text-decoration-color: #00d7ff\">None</span>, <span style=\"color: #00af00; text-decoration-color: #00af00\">50</span>)             │        <span style=\"color: #00af00; text-decoration-color: #00af00\">18,000</span> │\n",
       "├─────────────────────────────────┼────────────────────────┼───────────────┤\n",
       "│ dropout (<span style=\"color: #0087ff; text-decoration-color: #0087ff\">Dropout</span>)               │ (<span style=\"color: #00d7ff; text-decoration-color: #00d7ff\">None</span>, <span style=\"color: #00af00; text-decoration-color: #00af00\">50</span>)             │             <span style=\"color: #00af00; text-decoration-color: #00af00\">0</span> │\n",
       "├─────────────────────────────────┼────────────────────────┼───────────────┤\n",
       "│ dense (<span style=\"color: #0087ff; text-decoration-color: #0087ff\">Dense</span>)                   │ (<span style=\"color: #00d7ff; text-decoration-color: #00d7ff\">None</span>, <span style=\"color: #00af00; text-decoration-color: #00af00\">16</span>)             │           <span style=\"color: #00af00; text-decoration-color: #00af00\">816</span> │\n",
       "├─────────────────────────────────┼────────────────────────┼───────────────┤\n",
       "│ dense_1 (<span style=\"color: #0087ff; text-decoration-color: #0087ff\">Dense</span>)                 │ (<span style=\"color: #00d7ff; text-decoration-color: #00d7ff\">None</span>, <span style=\"color: #00af00; text-decoration-color: #00af00\">1</span>)              │            <span style=\"color: #00af00; text-decoration-color: #00af00\">17</span> │\n",
       "└─────────────────────────────────┴────────────────────────┴───────────────┘\n",
       "</pre>\n"
      ],
      "text/plain": [
       "┏━━━━━━━━━━━━━━━━━━━━━━━━━━━━━━━━━┳━━━━━━━━━━━━━━━━━━━━━━━━┳━━━━━━━━━━━━━━━┓\n",
       "┃\u001b[1m \u001b[0m\u001b[1mLayer (type)                   \u001b[0m\u001b[1m \u001b[0m┃\u001b[1m \u001b[0m\u001b[1mOutput Shape          \u001b[0m\u001b[1m \u001b[0m┃\u001b[1m \u001b[0m\u001b[1m      Param #\u001b[0m\u001b[1m \u001b[0m┃\n",
       "┡━━━━━━━━━━━━━━━━━━━━━━━━━━━━━━━━━╇━━━━━━━━━━━━━━━━━━━━━━━━╇━━━━━━━━━━━━━━━┩\n",
       "│ embedding (\u001b[38;5;33mEmbedding\u001b[0m)           │ (\u001b[38;5;45mNone\u001b[0m, \u001b[38;5;34m32\u001b[0m, \u001b[38;5;34m100\u001b[0m)        │       \u001b[38;5;34m898,600\u001b[0m │\n",
       "├─────────────────────────────────┼────────────────────────┼───────────────┤\n",
       "│ conv1d (\u001b[38;5;33mConv1D\u001b[0m)                 │ (\u001b[38;5;45mNone\u001b[0m, \u001b[38;5;34m28\u001b[0m, \u001b[38;5;34m64\u001b[0m)         │        \u001b[38;5;34m32,064\u001b[0m │\n",
       "├─────────────────────────────────┼────────────────────────┼───────────────┤\n",
       "│ max_pooling1d (\u001b[38;5;33mMaxPooling1D\u001b[0m)    │ (\u001b[38;5;45mNone\u001b[0m, \u001b[38;5;34m14\u001b[0m, \u001b[38;5;34m64\u001b[0m)         │             \u001b[38;5;34m0\u001b[0m │\n",
       "├─────────────────────────────────┼────────────────────────┼───────────────┤\n",
       "│ bidirectional (\u001b[38;5;33mBidirectional\u001b[0m)   │ (\u001b[38;5;45mNone\u001b[0m, \u001b[38;5;34m50\u001b[0m)             │        \u001b[38;5;34m18,000\u001b[0m │\n",
       "├─────────────────────────────────┼────────────────────────┼───────────────┤\n",
       "│ dropout (\u001b[38;5;33mDropout\u001b[0m)               │ (\u001b[38;5;45mNone\u001b[0m, \u001b[38;5;34m50\u001b[0m)             │             \u001b[38;5;34m0\u001b[0m │\n",
       "├─────────────────────────────────┼────────────────────────┼───────────────┤\n",
       "│ dense (\u001b[38;5;33mDense\u001b[0m)                   │ (\u001b[38;5;45mNone\u001b[0m, \u001b[38;5;34m16\u001b[0m)             │           \u001b[38;5;34m816\u001b[0m │\n",
       "├─────────────────────────────────┼────────────────────────┼───────────────┤\n",
       "│ dense_1 (\u001b[38;5;33mDense\u001b[0m)                 │ (\u001b[38;5;45mNone\u001b[0m, \u001b[38;5;34m1\u001b[0m)              │            \u001b[38;5;34m17\u001b[0m │\n",
       "└─────────────────────────────────┴────────────────────────┴───────────────┘\n"
      ]
     },
     "metadata": {},
     "output_type": "display_data"
    },
    {
     "data": {
      "text/html": [
       "<pre style=\"white-space:pre;overflow-x:auto;line-height:normal;font-family:Menlo,'DejaVu Sans Mono',consolas,'Courier New',monospace\"><span style=\"font-weight: bold\"> Total params: </span><span style=\"color: #00af00; text-decoration-color: #00af00\">1,051,293</span> (4.01 MB)\n",
       "</pre>\n"
      ],
      "text/plain": [
       "\u001b[1m Total params: \u001b[0m\u001b[38;5;34m1,051,293\u001b[0m (4.01 MB)\n"
      ]
     },
     "metadata": {},
     "output_type": "display_data"
    },
    {
     "data": {
      "text/html": [
       "<pre style=\"white-space:pre;overflow-x:auto;line-height:normal;font-family:Menlo,'DejaVu Sans Mono',consolas,'Courier New',monospace\"><span style=\"font-weight: bold\"> Trainable params: </span><span style=\"color: #00af00; text-decoration-color: #00af00\">50,897</span> (198.82 KB)\n",
       "</pre>\n"
      ],
      "text/plain": [
       "\u001b[1m Trainable params: \u001b[0m\u001b[38;5;34m50,897\u001b[0m (198.82 KB)\n"
      ]
     },
     "metadata": {},
     "output_type": "display_data"
    },
    {
     "data": {
      "text/html": [
       "<pre style=\"white-space:pre;overflow-x:auto;line-height:normal;font-family:Menlo,'DejaVu Sans Mono',consolas,'Courier New',monospace\"><span style=\"font-weight: bold\"> Non-trainable params: </span><span style=\"color: #00af00; text-decoration-color: #00af00\">898,600</span> (3.43 MB)\n",
       "</pre>\n"
      ],
      "text/plain": [
       "\u001b[1m Non-trainable params: \u001b[0m\u001b[38;5;34m898,600\u001b[0m (3.43 MB)\n"
      ]
     },
     "metadata": {},
     "output_type": "display_data"
    },
    {
     "data": {
      "text/html": [
       "<pre style=\"white-space:pre;overflow-x:auto;line-height:normal;font-family:Menlo,'DejaVu Sans Mono',consolas,'Courier New',monospace\"><span style=\"font-weight: bold\"> Optimizer params: </span><span style=\"color: #00af00; text-decoration-color: #00af00\">101,796</span> (397.64 KB)\n",
       "</pre>\n"
      ],
      "text/plain": [
       "\u001b[1m Optimizer params: \u001b[0m\u001b[38;5;34m101,796\u001b[0m (397.64 KB)\n"
      ]
     },
     "metadata": {},
     "output_type": "display_data"
    }
   ],
   "source": [
    "model.summary()"
   ]
  },
  {
   "cell_type": "code",
   "execution_count": null,
   "id": "f312e684-8dea-48ef-a879-76bf87925b94",
   "metadata": {},
   "outputs": [],
   "source": []
  }
 ],
 "metadata": {
  "kernelspec": {
   "display_name": "Python 3 (ipykernel)",
   "language": "python",
   "name": "python3"
  },
  "language_info": {
   "codemirror_mode": {
    "name": "ipython",
    "version": 3
   },
   "file_extension": ".py",
   "mimetype": "text/x-python",
   "name": "python",
   "nbconvert_exporter": "python",
   "pygments_lexer": "ipython3",
   "version": "3.11.4"
  }
 },
 "nbformat": 4,
 "nbformat_minor": 5
}
